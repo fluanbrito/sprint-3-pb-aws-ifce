{
 "cells": [
  {
   "cell_type": "code",
   "execution_count": null,
   "metadata": {
    "id": "vK1utixvG8FN"
   },
   "outputs": [],
   "source": [
    "import tensorflow as tf\n",
    "from tensorflow.keras.preprocessing.image import ImageDataGenerator"
   ]
  },
  {
   "cell_type": "code",
   "execution_count": null,
   "metadata": {
    "colab": {
     "base_uri": "https://localhost:8080/"
    },
    "id": "Ok97s5kAHD0u",
    "outputId": "794a809a-f93c-4749-da34-afd5a7aee85a"
   },
   "outputs": [
    {
     "name": "stdout",
     "output_type": "stream",
     "text": [
      "--2023-01-02 13:51:56--  https://storage.googleapis.com/laurencemoroney-blog.appspot.com/rps.zip\n",
      "Resolving storage.googleapis.com (storage.googleapis.com)... 108.177.12.128, 108.177.13.128, 74.125.26.128, ...\n",
      "Connecting to storage.googleapis.com (storage.googleapis.com)|108.177.12.128|:443... connected.\n",
      "HTTP request sent, awaiting response... 200 OK\n",
      "Length: 200682221 (191M) [application/zip]\n",
      "Saving to: ‘/tmp/rps.zip’\n",
      "\n",
      "/tmp/rps.zip        100%[===================>] 191.38M   131MB/s    in 1.5s    \n",
      "\n",
      "2023-01-02 13:51:57 (131 MB/s) - ‘/tmp/rps.zip’ saved [200682221/200682221]\n",
      "\n",
      "--2023-01-02 13:51:57--  https://storage.googleapis.com/laurencemoroney-blog.appspot.com/rps-test-set.zip\n",
      "Resolving storage.googleapis.com (storage.googleapis.com)... 108.177.12.128, 108.177.13.128, 74.125.26.128, ...\n",
      "Connecting to storage.googleapis.com (storage.googleapis.com)|108.177.12.128|:443... connected.\n",
      "HTTP request sent, awaiting response... 200 OK\n",
      "Length: 29516758 (28M) [application/zip]\n",
      "Saving to: ‘/tmp/rps-test-set.zip’\n",
      "\n",
      "/tmp/rps-test-set.z 100%[===================>]  28.15M   120MB/s    in 0.2s    \n",
      "\n",
      "2023-01-02 13:51:58 (120 MB/s) - ‘/tmp/rps-test-set.zip’ saved [29516758/29516758]\n",
      "\n"
     ]
    }
   ],
   "source": [
    "# import datasets\n",
    "!wget --no-check-certificate \\\n",
    "  https://storage.googleapis.com/laurencemoroney-blog.appspot.com/rps.zip \\\n",
    "  -O /tmp/rps.zip\n",
    "\n",
    "!wget --no-check-certificate \\\n",
    "  https://storage.googleapis.com/laurencemoroney-blog.appspot.com/rps-test-set.zip \\\n",
    "  -O /tmp/rps-test-set.zip"
   ]
  },
  {
   "cell_type": "code",
   "execution_count": null,
   "metadata": {
    "id": "8SYWDw-EHFlF"
   },
   "outputs": [],
   "source": [
    "# extract zip file\n",
    "import zipfile\n",
    "import os\n",
    "\n",
    "local_zip = '/tmp/rps.zip'\n",
    "zip_extract = zipfile.ZipFile(local_zip, 'r')\n",
    "zip_extract.extractall('/tmp/')\n",
    "zip_extract.close()\n",
    "\n",
    "local_zip = '/tmp/rps-test-set.zip'\n",
    "zip_extract = zipfile.ZipFile(local_zip, 'r')\n",
    "zip_extract.extractall('/tmp/')\n",
    "zip_extract.close()"
   ]
  },
  {
   "cell_type": "code",
   "execution_count": null,
   "metadata": {
    "colab": {
     "base_uri": "https://localhost:8080/"
    },
    "id": "5gu0ceKFHSqy",
    "outputId": "7031ef9c-8192-4cd3-91e7-6aa628832203"
   },
   "outputs": [
    {
     "data": {
      "text/plain": [
       "<keras.preprocessing.image.ImageDataGenerator at 0x7f7a686e8e80>"
      ]
     },
     "metadata": {},
     "output_type": "display_data"
    }
   ],
   "source": [
    "# image augmentation\n",
    "train_datagen = ImageDataGenerator(\n",
    "    rescale = 1./255,\n",
    "    rotation_range = 20,\n",
    "    horizontal_flip = True,\n",
    "    shear_range = 0.2,\n",
    "    fill_mode = 'wrap',\n",
    "    validation_split = 0.4\n",
    ")\n",
    "train_datagen"
   ]
  },
  {
   "cell_type": "code",
   "execution_count": null,
   "metadata": {
    "colab": {
     "base_uri": "https://localhost:8080/"
    },
    "id": "d0yOgG_qHeHM",
    "outputId": "80559e27-42b1-45bb-8c8e-540649bed7af"
   },
   "outputs": [
    {
     "name": "stdout",
     "output_type": "stream",
     "text": [
      "Found 2520 images belonging to 3 classes.\n",
      "Found 372 images belonging to 3 classes.\n"
     ]
    }
   ],
   "source": [
    "TRAINING_DIR = '/tmp/rps/'\n",
    "\n",
    "train_generator = train_datagen.flow_from_directory(\n",
    "    TRAINING_DIR,\n",
    "    target_size = (150, 150),\n",
    "    class_mode = 'categorical',\n",
    ")\n",
    "\n",
    "VALIDATION_DIR = '/tmp/rps-test-set'\n",
    "\n",
    "validation_generator = train_datagen.flow_from_directory(\n",
    "    VALIDATION_DIR,\n",
    "    target_size = (150, 150),\n",
    "    class_mode = 'categorical',\n",
    ")"
   ]
  },
  {
   "cell_type": "code",
   "execution_count": null,
   "metadata": {
    "id": "v2S3qPwGHly9"
   },
   "outputs": [],
   "source": [
    "model = tf.keras.models.Sequential([\n",
    "    tf.keras.layers.Conv2D(64, (3, 3), activation = 'relu', input_shape = (150, 150, 3)),\n",
    "    tf.keras.layers.MaxPooling2D(2, 2),\n",
    "    tf.keras.layers.Conv2D(64, (3, 3), activation = 'relu'),\n",
    "    tf.keras.layers.MaxPooling2D(2, 2),\n",
    "    tf.keras.layers.Conv2D(128, (3, 3), activation = 'relu'),\n",
    "    tf.keras.layers.MaxPooling2D(2, 2),\n",
    "    tf.keras.layers.Conv2D(128, (3, 3), activation = 'relu'),\n",
    "    tf.keras.layers.MaxPooling2D(2, 2),\n",
    "    # Flatten the results to feed into a DNN\n",
    "    tf.keras.layers.Flatten(),\n",
    "    tf.keras.layers.Dropout(0.5),\n",
    "    # 512 neuron hidden layer\n",
    "    tf.keras.layers.Dense(512, activation = 'relu'),\n",
    "    tf.keras.layers.Dense(3, activation = 'softmax')\n",
    "])"
   ]
  },
  {
   "cell_type": "code",
   "execution_count": null,
   "metadata": {
    "id": "zp9gMZlmHnw9"
   },
   "outputs": [],
   "source": [
    "# count loss function and optimizer\n",
    "model.compile(\n",
    "    loss = 'categorical_crossentropy',\n",
    "    optimizer = tf.optimizers.Adam(),\n",
    "    metrics = ['accuracy']               \n",
    ")"
   ]
  },
  {
   "cell_type": "code",
   "execution_count": null,
   "metadata": {
    "colab": {
     "base_uri": "https://localhost:8080/"
    },
    "id": "ru8uEJVuHpYV",
    "outputId": "fda075b7-5896-4911-ec63-96df912a321a"
   },
   "outputs": [
    {
     "name": "stdout",
     "output_type": "stream",
     "text": [
      "Epoch 1/30\n",
      "79/79 [==============================] - 24s 295ms/step - loss: 0.8267 - accuracy: 0.5837 - val_loss: 0.5793 - val_accuracy: 0.7715\n",
      "Epoch 2/30\n",
      "79/79 [==============================] - 23s 289ms/step - loss: 0.2097 - accuracy: 0.9274 - val_loss: 0.4692 - val_accuracy: 0.8360\n",
      "Epoch 3/30\n",
      "79/79 [==============================] - 23s 296ms/step - loss: 0.1337 - accuracy: 0.9536 - val_loss: 0.2832 - val_accuracy: 0.8952\n",
      "Epoch 4/30\n",
      "79/79 [==============================] - 23s 286ms/step - loss: 0.0256 - accuracy: 0.9909 - val_loss: 0.2358 - val_accuracy: 0.9274\n",
      "Epoch 5/30\n",
      "79/79 [==============================] - 23s 286ms/step - loss: 0.0487 - accuracy: 0.9833 - val_loss: 0.3780 - val_accuracy: 0.8656\n",
      "Epoch 6/30\n",
      "79/79 [==============================] - 23s 287ms/step - loss: 0.0242 - accuracy: 0.9909 - val_loss: 0.1582 - val_accuracy: 0.9409\n",
      "Epoch 7/30\n",
      "79/79 [==============================] - 23s 285ms/step - loss: 0.0110 - accuracy: 0.9964 - val_loss: 0.1242 - val_accuracy: 0.9597\n",
      "Epoch 8/30\n",
      "79/79 [==============================] - 22s 284ms/step - loss: 0.0314 - accuracy: 0.9909 - val_loss: 0.2502 - val_accuracy: 0.9220\n",
      "Epoch 9/30\n",
      "79/79 [==============================] - 22s 284ms/step - loss: 0.0165 - accuracy: 0.9925 - val_loss: 0.2232 - val_accuracy: 0.9570\n",
      "Epoch 10/30\n",
      "79/79 [==============================] - 22s 284ms/step - loss: 0.0175 - accuracy: 0.9948 - val_loss: 0.2391 - val_accuracy: 0.9059\n",
      "Epoch 11/30\n",
      "79/79 [==============================] - 22s 284ms/step - loss: 0.0048 - accuracy: 0.9980 - val_loss: 0.1220 - val_accuracy: 0.9597\n",
      "Epoch 12/30\n",
      "79/79 [==============================] - 22s 284ms/step - loss: 0.0167 - accuracy: 0.9956 - val_loss: 0.2930 - val_accuracy: 0.9086\n",
      "Epoch 13/30\n",
      "79/79 [==============================] - 23s 287ms/step - loss: 0.0144 - accuracy: 0.9948 - val_loss: 0.1419 - val_accuracy: 0.9543\n",
      "Epoch 14/30\n",
      "79/79 [==============================] - 23s 295ms/step - loss: 0.0025 - accuracy: 0.9996 - val_loss: 0.1588 - val_accuracy: 0.9409\n",
      "Epoch 15/30\n",
      "79/79 [==============================] - 23s 285ms/step - loss: 0.0052 - accuracy: 0.9984 - val_loss: 0.1938 - val_accuracy: 0.9489\n",
      "Epoch 16/30\n",
      "79/79 [==============================] - 23s 287ms/step - loss: 0.0082 - accuracy: 0.9980 - val_loss: 0.1815 - val_accuracy: 0.9489\n",
      "Epoch 17/30\n",
      "79/79 [==============================] - 23s 287ms/step - loss: 0.0053 - accuracy: 0.9984 - val_loss: 0.1428 - val_accuracy: 0.9651\n",
      "Epoch 18/30\n",
      "79/79 [==============================] - 23s 287ms/step - loss: 0.0038 - accuracy: 0.9984 - val_loss: 0.1874 - val_accuracy: 0.9409\n",
      "Epoch 19/30\n",
      "79/79 [==============================] - 23s 286ms/step - loss: 8.3982e-04 - accuracy: 0.9996 - val_loss: 0.2323 - val_accuracy: 0.9597\n",
      "Epoch 20/30\n",
      "79/79 [==============================] - 23s 286ms/step - loss: 0.0091 - accuracy: 0.9972 - val_loss: 0.2153 - val_accuracy: 0.9328\n",
      "Epoch 21/30\n",
      "79/79 [==============================] - 22s 284ms/step - loss: 0.0118 - accuracy: 0.9956 - val_loss: 0.2470 - val_accuracy: 0.9382\n",
      "Epoch 22/30\n",
      "79/79 [==============================] - 22s 282ms/step - loss: 0.0108 - accuracy: 0.9960 - val_loss: 0.0963 - val_accuracy: 0.9704\n",
      "Epoch 23/30\n",
      "79/79 [==============================] - 23s 286ms/step - loss: 1.9104e-04 - accuracy: 1.0000 - val_loss: 0.0832 - val_accuracy: 0.9677\n",
      "Epoch 24/30\n",
      "79/79 [==============================] - 23s 296ms/step - loss: 0.0143 - accuracy: 0.9948 - val_loss: 0.1858 - val_accuracy: 0.9409\n",
      "Epoch 25/30\n",
      "79/79 [==============================] - 22s 284ms/step - loss: 0.0090 - accuracy: 0.9980 - val_loss: 0.5218 - val_accuracy: 0.8683\n",
      "Epoch 26/30\n",
      "79/79 [==============================] - 23s 285ms/step - loss: 0.0140 - accuracy: 0.9952 - val_loss: 0.2519 - val_accuracy: 0.9355\n",
      "Epoch 27/30\n",
      "79/79 [==============================] - 23s 285ms/step - loss: 0.0012 - accuracy: 0.9996 - val_loss: 0.2519 - val_accuracy: 0.9194\n",
      "Epoch 28/30\n",
      "79/79 [==============================] - 22s 285ms/step - loss: 0.0231 - accuracy: 0.9929 - val_loss: 0.1941 - val_accuracy: 0.9355\n",
      "Epoch 29/30\n",
      "79/79 [==============================] - 23s 285ms/step - loss: 0.0308 - accuracy: 0.9921 - val_loss: 0.4598 - val_accuracy: 0.8710\n",
      "Epoch 30/30\n",
      "79/79 [==============================] - 23s 285ms/step - loss: 0.0146 - accuracy: 0.9980 - val_loss: 0.2410 - val_accuracy: 0.9113\n"
     ]
    }
   ],
   "source": [
    "# train data\n",
    "history = model.fit(\n",
    "    train_generator,\n",
    "    epochs = 30,\n",
    "    validation_data = validation_generator,\n",
    "    verbose = 1,\n",
    ")"
   ]
  },
  {
   "cell_type": "code",
   "execution_count": null,
   "metadata": {
    "colab": {
     "base_uri": "https://localhost:8080/",
     "height": 298
    },
    "id": "mX89ccbmS35A",
    "outputId": "92bdc5cb-dbc1-4dc8-f802-7a4a83094bc9"
   },
   "outputs": [
    {
     "data": {
      "image/png": "[encoded data removed]",
      "text/plain": [
       "<Figure size 432x288 with 1 Axes>"
      ]
     },
     "metadata": {},
     "output_type": "display_data"
    },
    {
     "data": {
      "text/plain": [
       "<Figure size 432x288 with 0 Axes>"
      ]
     },
     "metadata": {},
     "output_type": "display_data"
    }
   ],
   "source": [
    "# Verificando a eficácia do modelo\n",
    "acc = history.history['accuracy']\n",
    "val_acc = history.history['val_accuracy']\n",
    "loss = history.history['loss']\n",
    "val_loss = history.history['val_loss']\n",
    "\n",
    "epochs = range(len(acc))\n",
    "\n",
    "plt.plot(epochs, acc, 'r', label='Acurácia de treinamento')\n",
    "plt.plot(epochs, val_acc, 'b', label='Acurácia de validação')\n",
    "plt.title('Acurácia de treinamento e validação')\n",
    "plt.legend(loc=0)\n",
    "plt.figure()\n",
    "\n",
    "\n",
    "plt.show()"
   ]
  },
  {
   "cell_type": "code",
   "execution_count": null,
   "metadata": {
    "colab": {
     "base_uri": "https://localhost:8080/",
     "height": 377
    },
    "id": "TJSENZ-gMfco",
    "outputId": "78b12aa6-71c4-4432-e8db-adccf59a1aca"
   },
   "outputs": [
    {
     "data": {
      "text/html": [
       "\n",
       "     <input type=\"file\" id=\"files-8c737012-5982-4623-a530-06f1f801191f\" name=\"files[]\" multiple disabled\n",
       "        style=\"border:none\" />\n",
       "     <output id=\"result-8c737012-5982-4623-a530-06f1f801191f\">\n",
       "      Upload widget is only available when the cell has been executed in the\n",
       "      current browser session. Please rerun this cell to enable.\n",
       "      </output>\n",
       "      <script>// Copyright 2017 Google LLC\n",
       "//\n",
       "// Licensed under the Apache License, Version 2.0 (the \"License\");\n",
       "// you may not use this file except in compliance with the License.\n",
       "// You may obtain a copy of the License at\n",
       "//\n",
       "//      http://www.apache.org/licenses/LICENSE-2.0\n",
       "//\n",
       "// Unless required by applicable law or agreed to in writing, software\n",
       "// distributed under the License is distributed on an \"AS IS\" BASIS,\n",
       "// WITHOUT WARRANTIES OR CONDITIONS OF ANY KIND, either express or implied.\n",
       "// See the License for the specific language governing permissions and\n",
       "// limitations under the License.\n",
       "\n",
       "/**\n",
       " * @fileoverview Helpers for google.colab Python module.\n",
       " */\n",
       "(function(scope) {\n",
       "function span(text, styleAttributes = {}) {\n",
       "  const element = document.createElement('span');\n",
       "  element.textContent = text;\n",
       "  for (const key of Object.keys(styleAttributes)) {\n",
       "    element.style[key] = styleAttributes[key];\n",
       "  }\n",
       "  return element;\n",
       "}\n",
       "\n",
       "// Max number of bytes which will be uploaded at a time.\n",
       "const MAX_PAYLOAD_SIZE = 100 * 1024;\n",
       "\n",
       "function _uploadFiles(inputId, outputId) {\n",
       "  const steps = uploadFilesStep(inputId, outputId);\n",
       "  const outputElement = document.getElementById(outputId);\n",
       "  // Cache steps on the outputElement to make it available for the next call\n",
       "  // to uploadFilesContinue from Python.\n",
       "  outputElement.steps = steps;\n",
       "\n",
       "  return _uploadFilesContinue(outputId);\n",
       "}\n",
       "\n",
       "// This is roughly an async generator (not supported in the browser yet),\n",
       "// where there are multiple asynchronous steps and the Python side is going\n",
       "// to poll for completion of each step.\n",
       "// This uses a Promise to block the python side on completion of each step,\n",
       "// then passes the result of the previous step as the input to the next step.\n",
       "function _uploadFilesContinue(outputId) {\n",
       "  const outputElement = document.getElementById(outputId);\n",
       "  const steps = outputElement.steps;\n",
       "\n",
       "  const next = steps.next(outputElement.lastPromiseValue);\n",
       "  return Promise.resolve(next.value.promise).then((value) => {\n",
       "    // Cache the last promise value to make it available to the next\n",
       "    // step of the generator.\n",
       "    outputElement.lastPromiseValue = value;\n",
       "    return next.value.response;\n",
       "  });\n",
       "}\n",
       "\n",
       "/**\n",
       " * Generator function which is called between each async step of the upload\n",
       " * process.\n",
       " * @param {string} inputId Element ID of the input file picker element.\n",
       " * @param {string} outputId Element ID of the output display.\n",
       " * @return {!Iterable<!Object>} Iterable of next steps.\n",
       " */\n",
       "function* uploadFilesStep(inputId, outputId) {\n",
       "  const inputElement = document.getElementById(inputId);\n",
       "  inputElement.disabled = false;\n",
       "\n",
       "  const outputElement = document.getElementById(outputId);\n",
       "  outputElement.innerHTML = '';\n",
       "\n",
       "  const pickedPromise = new Promise((resolve) => {\n",
       "    inputElement.addEventListener('change', (e) => {\n",
       "      resolve(e.target.files);\n",
       "    });\n",
       "  });\n",
       "\n",
       "  const cancel = document.createElement('button');\n",
       "  inputElement.parentElement.appendChild(cancel);\n",
       "  cancel.textContent = 'Cancel upload';\n",
       "  const cancelPromise = new Promise((resolve) => {\n",
       "    cancel.onclick = () => {\n",
       "      resolve(null);\n",
       "    };\n",
       "  });\n",
       "\n",
       "  // Wait for the user to pick the files.\n",
       "  const files = yield {\n",
       "    promise: Promise.race([pickedPromise, cancelPromise]),\n",
       "    response: {\n",
       "      action: 'starting',\n",
       "    }\n",
       "  };\n",
       "\n",
       "  cancel.remove();\n",
       "\n",
       "  // Disable the input element since further picks are not allowed.\n",
       "  inputElement.disabled = true;\n",
       "\n",
       "  if (!files) {\n",
       "    return {\n",
       "      response: {\n",
       "        action: 'complete',\n",
       "      }\n",
       "    };\n",
       "  }\n",
       "\n",
       "  for (const file of files) {\n",
       "    const li = document.createElement('li');\n",
       "    li.append(span(file.name, {fontWeight: 'bold'}));\n",
       "    li.append(span(\n",
       "        `(${file.type || 'n/a'}) - ${file.size} bytes, ` +\n",
       "        `last modified: ${\n",
       "            file.lastModifiedDate ? file.lastModifiedDate.toLocaleDateString() :\n",
       "                                    'n/a'} - `));\n",
       "    const percent = span('0% done');\n",
       "    li.appendChild(percent);\n",
       "\n",
       "    outputElement.appendChild(li);\n",
       "\n",
       "    const fileDataPromise = new Promise((resolve) => {\n",
       "      const reader = new FileReader();\n",
       "      reader.onload = (e) => {\n",
       "        resolve(e.target.result);\n",
       "      };\n",
       "      reader.readAsArrayBuffer(file);\n",
       "    });\n",
       "    // Wait for the data to be ready.\n",
       "    let fileData = yield {\n",
       "      promise: fileDataPromise,\n",
       "      response: {\n",
       "        action: 'continue',\n",
       "      }\n",
       "    };\n",
       "\n",
       "    // Use a chunked sending to avoid message size limits. See b/62115660.\n",
       "    let position = 0;\n",
       "    do {\n",
       "      const length = Math.min(fileData.byteLength - position, MAX_PAYLOAD_SIZE);\n",
       "      const chunk = new Uint8Array(fileData, position, length);\n",
       "      position += length;\n",
       "\n",
       "      const base64 = btoa(String.fromCharCode.apply(null, chunk));\n",
       "      yield {\n",
       "        response: {\n",
       "          action: 'append',\n",
       "          file: file.name,\n",
       "          data: base64,\n",
       "        },\n",
       "      };\n",
       "\n",
       "      let percentDone = fileData.byteLength === 0 ?\n",
       "          100 :\n",
       "          Math.round((position / fileData.byteLength) * 100);\n",
       "      percent.textContent = `${percentDone}% done`;\n",
       "\n",
       "    } while (position < fileData.byteLength);\n",
       "  }\n",
       "\n",
       "  // All done.\n",
       "  yield {\n",
       "    response: {\n",
       "      action: 'complete',\n",
       "    }\n",
       "  };\n",
       "}\n",
       "\n",
       "scope.google = scope.google || {};\n",
       "scope.google.colab = scope.google.colab || {};\n",
       "scope.google.colab._files = {\n",
       "  _uploadFiles,\n",
       "  _uploadFilesContinue,\n",
       "};\n",
       "})(self);\n",
       "</script> "
      ],
      "text/plain": [
       "<IPython.core.display.HTML object>"
      ]
     },
     "metadata": {},
     "output_type": "display_data"
    },
    {
     "name": "stdout",
     "output_type": "stream",
     "text": [
      "Saving shutterstock_239520823.jpg to shutterstock_239520823 (4).jpg\n",
      "1/1 [==============================] - 0s 74ms/step\n",
      "shutterstock_239520823.jpg\n",
      "Tesoura\n"
     ]
    },
    {
     "data": {
      "image/png": "[encoded data removed]",
      "text/plain": [
       "<Figure size 432x288 with 1 Axes>"
      ]
     },
     "metadata": {},
     "output_type": "display_data"
    }
   ],
   "source": [
    "import numpy as np\n",
    "from google.colab import files\n",
    "from tensorflow.keras.utils import load_img\n",
    "#from keras.preprocessing import image\n",
    "import matplotlib.pyplot as plt\n",
    "import matplotlib.image as mpimg\n",
    "%matplotlib inline\n",
    "\n",
    "uploaded = files.upload()\n",
    "\n",
    "for fn in uploaded.keys():\n",
    "  # predict images\n",
    "  path = fn\n",
    "  img_source = tf.keras.utils.load_img(path, target_size = (150, 150))\n",
    "  imgplot = plt.imshow(img_source)\n",
    "  x = tf.keras.utils.img_to_array(img_source)\n",
    "  x = np.expand_dims(x, axis = 0)\n",
    "\n",
    "  images = np.vstack([x])\n",
    "  classes = model.predict(images, batch_size=10)\n",
    "\n",
    "  print(fn)\n",
    "  if classes[0, 0] == 1:\n",
    "    print('Pedra')\n",
    "  elif classes[0, 1] == 1:\n",
    "    print('Papel')\n",
    "  elif classes[0, 2] == 1:\n",
    "    print('Tesoura')"
   ]
  },
  {
   "cell_type": "code",
   "execution_count": null,
   "metadata": {
    "id": "wyFAYAAfR432"
   },
   "outputs": [],
   "source": [
    "# Salvando o modelo\n",
    "model.save('rps.h5')"
   ]
  },
  {
   "cell_type": "code",
   "execution_count": 2,
   "metadata": {
    "colab": {
     "base_uri": "https://localhost:8080/"
    },
    "id": "aPw70mTVf9Oc",
    "outputId": "8aecfe4b-e460-434c-e69d-7d2b245142ac"
   },
   "outputs": [
    {
     "ename": "ModuleNotFoundError",
     "evalue": "No module named 'keras'",
     "output_type": "error",
     "traceback": [
      "\u001b[0;31m---------------------------------------------------------------------------\u001b[0m",
      "\u001b[0;31mModuleNotFoundError\u001b[0m                       Traceback (most recent call last)",
      "Cell \u001b[0;32mIn[2], line 1\u001b[0m\n\u001b[0;32m----> 1\u001b[0m \u001b[38;5;28;01mfrom\u001b[39;00m \u001b[38;5;21;01mkeras\u001b[39;00m\u001b[38;5;21;01m.\u001b[39;00m\u001b[38;5;21;01mmodels\u001b[39;00m \u001b[38;5;28;01mimport\u001b[39;00m load_model\n\u001b[1;32m      2\u001b[0m model \u001b[38;5;241m=\u001b[39m load_model(\u001b[38;5;124m'\u001b[39m\u001b[38;5;124mrps.h5\u001b[39m\u001b[38;5;124m'\u001b[39m)\n\u001b[1;32m      3\u001b[0m model\u001b[38;5;241m.\u001b[39msummary()\n",
      "\u001b[0;31mModuleNotFoundError\u001b[0m: No module named 'keras'"
     ]
    }
   ],
   "source": [
    "from keras.models import load_model\n",
    "model = load_model('rps.h5')\n",
    "model.summary()"
   ]
  },
  {
   "cell_type": "code",
   "execution_count": 1,
   "metadata": {
    "colab": {
     "base_uri": "https://localhost:8080/",
     "height": 971
    },
    "id": "uqiuCGdCgB4o",
    "outputId": "bd2eee1c-ee4a-4c6d-d2cb-49b2f7562c23"
   },
   "outputs": [
    {
     "ename": "ModuleNotFoundError",
     "evalue": "No module named 'keras'",
     "output_type": "error",
     "traceback": [
      "\u001b[0;31m---------------------------------------------------------------------------\u001b[0m",
      "\u001b[0;31mModuleNotFoundError\u001b[0m                       Traceback (most recent call last)",
      "Cell \u001b[0;32mIn[1], line 1\u001b[0m\n\u001b[0;32m----> 1\u001b[0m \u001b[38;5;28;01mfrom\u001b[39;00m \u001b[38;5;21;01mkeras\u001b[39;00m\u001b[38;5;21;01m.\u001b[39;00m\u001b[38;5;21;01mmodels\u001b[39;00m \u001b[38;5;28;01mimport\u001b[39;00m load_model\n\u001b[1;32m      2\u001b[0m model \u001b[38;5;241m=\u001b[39m load_model(\u001b[38;5;124m'\u001b[39m\u001b[38;5;124mrps.h5\u001b[39m\u001b[38;5;124m'\u001b[39m)\n\u001b[1;32m      3\u001b[0m model\u001b[38;5;241m.\u001b[39msummary()\n",
      "\u001b[0;31mModuleNotFoundError\u001b[0m: No module named 'keras'"
     ]
    }
   ],
   "source": [
    "from keras.models import load_model\n",
    "model = load_model('rps.h5')\n",
    "model.summary()\n",
    "\n",
    "import pickle\n",
    "import sqlite3\n",
    "\n",
    "# Serializando o modelo em um arquivo pickle\n",
    "with open('model.pkl', 'wb') as f:\n",
    "  pickle.dump(model, f)\n",
    "\n",
    "# Conectando com o banco de dados\n",
    "conn = sqlite3.connect('database.db')\n",
    "\n",
    "# Inserindo uma linha na tabela com o modelo de arquivo BLOB\n",
    "cursor = conn.cursor()\n",
    "query = 'INSERT INTO models (model) VALUES (?)'\n",
    "with open('model.pkl', 'rb') as f:\n",
    "  model_blob = f.read()\n",
    "cursor.execute(query, (memoryview(model_blob),))\n",
    "conn.commit()\n",
    "\n",
    "# Recuperando o modelo da tabela como BLOB\n",
    "id = 1\n",
    "cursor.execute('SELECT model FROM models WHERE id = ?', (id,))\n",
    "model_blob = cursor.fetchone()[0]\n",
    "\n",
    "# Salvando e desserializando  o modelo \n",
    "with open('model_from_db.pkl', 'wb') as f:\n",
    "  f.write(model_blob)\n",
    "\n",
    "with open('model_from_db.pkl', 'rb') as f:\n",
    "  model_from_db = pickle.load(f)\n",
    "\n",
    "# Encerrando a conexão\n",
    "#conn.close()\n"
   ]
  }
 ],
 "metadata": {
  "accelerator": "GPU",
  "colab": {
   "provenance": []
  },
  "gpuClass": "standard",
  "kernelspec": {
   "display_name": "Python 3 (ipykernel)",
   "language": "python",
   "name": "python3"
  },
  "language_info": {
   "codemirror_mode": {
    "name": "ipython",
    "version": 3
   },
   "file_extension": ".py",
   "mimetype": "text/x-python",
   "name": "python",
   "nbconvert_exporter": "python",
   "pygments_lexer": "ipython3",
   "version": "3.10.9"
  }
 },
 "nbformat": 4,
 "nbformat_minor": 1
}
