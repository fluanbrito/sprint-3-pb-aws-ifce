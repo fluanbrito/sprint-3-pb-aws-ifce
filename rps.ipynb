{
  "cells": [
    {
      "cell_type": "code",
      "execution_count": 1,
      "metadata": {
        "id": "vK1utixvG8FN"
      },
      "outputs": [],
      "source": [
        "import tensorflow as tf\n",
        "from tensorflow.keras.preprocessing.image import ImageDataGenerator"
      ]
    },
    {
      "cell_type": "code",
      "execution_count": 2,
      "metadata": {
        "colab": {
          "base_uri": "https://localhost:8080/"
        },
        "id": "Ok97s5kAHD0u",
        "outputId": "ad273552-b950-49d7-86c7-e115f9fbcc95"
      },
      "outputs": [
        {
          "output_type": "stream",
          "name": "stdout",
          "text": [
            "--2023-01-02 16:01:16--  https://storage.googleapis.com/laurencemoroney-blog.appspot.com/rps.zip\n",
            "Resolving storage.googleapis.com (storage.googleapis.com)... 142.251.16.128, 172.217.0.48, 142.251.163.128, ...\n",
            "Connecting to storage.googleapis.com (storage.googleapis.com)|142.251.16.128|:443... connected.\n",
            "HTTP request sent, awaiting response... 200 OK\n",
            "Length: 200682221 (191M) [application/zip]\n",
            "Saving to: ‘/tmp/rps.zip’\n",
            "\n",
            "/tmp/rps.zip        100%[===================>] 191.38M   203MB/s    in 0.9s    \n",
            "\n",
            "2023-01-02 16:01:17 (203 MB/s) - ‘/tmp/rps.zip’ saved [200682221/200682221]\n",
            "\n",
            "--2023-01-02 16:01:17--  https://storage.googleapis.com/laurencemoroney-blog.appspot.com/rps-test-set.zip\n",
            "Resolving storage.googleapis.com (storage.googleapis.com)... 142.251.16.128, 172.217.0.48, 142.251.163.128, ...\n",
            "Connecting to storage.googleapis.com (storage.googleapis.com)|142.251.16.128|:443... connected.\n",
            "HTTP request sent, awaiting response... 200 OK\n",
            "Length: 29516758 (28M) [application/zip]\n",
            "Saving to: ‘/tmp/rps-test-set.zip’\n",
            "\n",
            "/tmp/rps-test-set.z 100%[===================>]  28.15M  87.8MB/s    in 0.3s    \n",
            "\n",
            "2023-01-02 16:01:18 (87.8 MB/s) - ‘/tmp/rps-test-set.zip’ saved [29516758/29516758]\n",
            "\n"
          ]
        }
      ],
      "source": [
        "# import datasets\n",
        "!wget --no-check-certificate \\\n",
        "  https://storage.googleapis.com/laurencemoroney-blog.appspot.com/rps.zip \\\n",
        "  -O /tmp/rps.zip\n",
        "\n",
        "!wget --no-check-certificate \\\n",
        "  https://storage.googleapis.com/laurencemoroney-blog.appspot.com/rps-test-set.zip \\\n",
        "  -O /tmp/rps-test-set.zip"
      ]
    },
    {
      "cell_type": "code",
      "execution_count": 3,
      "metadata": {
        "id": "8SYWDw-EHFlF"
      },
      "outputs": [],
      "source": [
        "# extract zip file\n",
        "import zipfile\n",
        "import os\n",
        "\n",
        "local_zip = '/tmp/rps.zip'\n",
        "zip_extract = zipfile.ZipFile(local_zip, 'r')\n",
        "zip_extract.extractall('/tmp/')\n",
        "zip_extract.close()\n",
        "\n",
        "local_zip = '/tmp/rps-test-set.zip'\n",
        "zip_extract = zipfile.ZipFile(local_zip, 'r')\n",
        "zip_extract.extractall('/tmp/')\n",
        "zip_extract.close()"
      ]
    },
    {
      "cell_type": "code",
      "execution_count": 4,
      "metadata": {
        "colab": {
          "base_uri": "https://localhost:8080/"
        },
        "id": "5gu0ceKFHSqy",
        "outputId": "98ae076e-cb9b-4a37-966e-54a4d78d7e28"
      },
      "outputs": [
        {
          "output_type": "execute_result",
          "data": {
            "text/plain": [
              "<keras.preprocessing.image.ImageDataGenerator at 0x7f71c8422fa0>"
            ]
          },
          "metadata": {},
          "execution_count": 4
        }
      ],
      "source": [
        "# image augmentation\n",
        "train_datagen = ImageDataGenerator(\n",
        "    rescale = 1./255,\n",
        "    rotation_range = 20,\n",
        "    horizontal_flip = True,\n",
        "    shear_range = 0.2,\n",
        "    fill_mode = 'wrap',\n",
        "    validation_split = 0.4\n",
        ")\n",
        "train_datagen"
      ]
    },
    {
      "cell_type": "code",
      "execution_count": 5,
      "metadata": {
        "colab": {
          "base_uri": "https://localhost:8080/"
        },
        "id": "d0yOgG_qHeHM",
        "outputId": "03501796-dedf-4900-96f1-542506a03a94"
      },
      "outputs": [
        {
          "output_type": "stream",
          "name": "stdout",
          "text": [
            "Found 2520 images belonging to 3 classes.\n",
            "Found 372 images belonging to 3 classes.\n"
          ]
        }
      ],
      "source": [
        "TRAINING_DIR = '/tmp/rps/'\n",
        "\n",
        "train_generator = train_datagen.flow_from_directory(\n",
        "    TRAINING_DIR,\n",
        "    target_size = (150, 150),\n",
        "    class_mode = 'categorical',\n",
        ")\n",
        "\n",
        "VALIDATION_DIR = '/tmp/rps-test-set'\n",
        "\n",
        "validation_generator = train_datagen.flow_from_directory(\n",
        "    VALIDATION_DIR,\n",
        "    target_size = (150, 150),\n",
        "    class_mode = 'categorical',\n",
        ")"
      ]
    },
    {
      "cell_type": "code",
      "execution_count": 6,
      "metadata": {
        "id": "v2S3qPwGHly9"
      },
      "outputs": [],
      "source": [
        "model = tf.keras.models.Sequential([\n",
        "    tf.keras.layers.Conv2D(64, (3, 3), activation = 'relu', input_shape = (150, 150, 3)),\n",
        "    tf.keras.layers.MaxPooling2D(2, 2),\n",
        "    tf.keras.layers.Conv2D(64, (3, 3), activation = 'relu'),\n",
        "    tf.keras.layers.MaxPooling2D(2, 2),\n",
        "    tf.keras.layers.Conv2D(128, (3, 3), activation = 'relu'),\n",
        "    tf.keras.layers.MaxPooling2D(2, 2),\n",
        "    tf.keras.layers.Conv2D(128, (3, 3), activation = 'relu'),\n",
        "    tf.keras.layers.MaxPooling2D(2, 2),\n",
        "    # Flatten the results to feed into a DNN\n",
        "    tf.keras.layers.Flatten(),\n",
        "    tf.keras.layers.Dropout(0.5),\n",
        "    # 512 neuron hidden layer\n",
        "    tf.keras.layers.Dense(512, activation = 'relu'),\n",
        "    tf.keras.layers.Dense(3, activation = 'softmax')\n",
        "])"
      ]
    },
    {
      "cell_type": "code",
      "execution_count": 7,
      "metadata": {
        "id": "zp9gMZlmHnw9"
      },
      "outputs": [],
      "source": [
        "# count loss function and optimizer\n",
        "model.compile(\n",
        "    loss = 'categorical_crossentropy',\n",
        "    optimizer = tf.optimizers.Adam(),\n",
        "    metrics = ['accuracy']               \n",
        ")"
      ]
    },
    {
      "cell_type": "code",
      "execution_count": 8,
      "metadata": {
        "colab": {
          "base_uri": "https://localhost:8080/"
        },
        "id": "ru8uEJVuHpYV",
        "outputId": "0d880d3c-17af-436e-b113-27fc167877e4"
      },
      "outputs": [
        {
          "output_type": "stream",
          "name": "stdout",
          "text": [
            "Epoch 1/30\n",
            "79/79 [==============================] - 33s 297ms/step - loss: 0.6012 - accuracy: 0.7270 - val_loss: 0.4820 - val_accuracy: 0.7715\n",
            "Epoch 2/30\n",
            "79/79 [==============================] - 24s 298ms/step - loss: 0.1245 - accuracy: 0.9599 - val_loss: 0.1882 - val_accuracy: 0.9220\n",
            "Epoch 3/30\n",
            "79/79 [==============================] - 23s 285ms/step - loss: 0.0536 - accuracy: 0.9825 - val_loss: 0.1551 - val_accuracy: 0.9409\n",
            "Epoch 4/30\n",
            "79/79 [==============================] - 22s 284ms/step - loss: 0.0386 - accuracy: 0.9893 - val_loss: 0.0796 - val_accuracy: 0.9758\n",
            "Epoch 5/30\n",
            "79/79 [==============================] - 22s 280ms/step - loss: 0.0260 - accuracy: 0.9913 - val_loss: 0.0843 - val_accuracy: 0.9677\n",
            "Epoch 6/30\n",
            "79/79 [==============================] - 22s 282ms/step - loss: 0.0161 - accuracy: 0.9933 - val_loss: 0.1197 - val_accuracy: 0.9543\n",
            "Epoch 7/30\n",
            "79/79 [==============================] - 23s 289ms/step - loss: 0.0175 - accuracy: 0.9929 - val_loss: 0.1830 - val_accuracy: 0.9489\n",
            "Epoch 8/30\n",
            "79/79 [==============================] - 22s 280ms/step - loss: 0.0163 - accuracy: 0.9944 - val_loss: 0.0469 - val_accuracy: 0.9812\n",
            "Epoch 9/30\n",
            "79/79 [==============================] - 22s 280ms/step - loss: 0.0085 - accuracy: 0.9976 - val_loss: 0.1321 - val_accuracy: 0.9570\n",
            "Epoch 10/30\n",
            "79/79 [==============================] - 22s 281ms/step - loss: 0.0132 - accuracy: 0.9956 - val_loss: 0.1510 - val_accuracy: 0.9435\n",
            "Epoch 11/30\n",
            "79/79 [==============================] - 22s 279ms/step - loss: 0.0095 - accuracy: 0.9972 - val_loss: 0.2788 - val_accuracy: 0.9274\n",
            "Epoch 12/30\n",
            "79/79 [==============================] - 22s 279ms/step - loss: 0.0172 - accuracy: 0.9937 - val_loss: 0.0915 - val_accuracy: 0.9597\n",
            "Epoch 13/30\n",
            "79/79 [==============================] - 22s 282ms/step - loss: 0.0031 - accuracy: 0.9992 - val_loss: 0.0934 - val_accuracy: 0.9731\n",
            "Epoch 14/30\n",
            "79/79 [==============================] - 22s 280ms/step - loss: 0.0060 - accuracy: 0.9972 - val_loss: 0.2290 - val_accuracy: 0.9301\n",
            "Epoch 15/30\n",
            "79/79 [==============================] - 22s 282ms/step - loss: 0.0466 - accuracy: 0.9893 - val_loss: 0.1683 - val_accuracy: 0.9274\n",
            "Epoch 16/30\n",
            "79/79 [==============================] - 22s 282ms/step - loss: 0.0176 - accuracy: 0.9944 - val_loss: 0.0891 - val_accuracy: 0.9570\n",
            "Epoch 17/30\n",
            "79/79 [==============================] - 23s 297ms/step - loss: 0.0061 - accuracy: 0.9992 - val_loss: 0.1072 - val_accuracy: 0.9704\n",
            "Epoch 18/30\n",
            "79/79 [==============================] - 22s 280ms/step - loss: 0.0012 - accuracy: 0.9992 - val_loss: 0.0973 - val_accuracy: 0.9758\n",
            "Epoch 19/30\n",
            "79/79 [==============================] - 22s 279ms/step - loss: 0.0094 - accuracy: 0.9980 - val_loss: 0.1066 - val_accuracy: 0.9624\n",
            "Epoch 20/30\n",
            "79/79 [==============================] - 22s 281ms/step - loss: 0.0015 - accuracy: 1.0000 - val_loss: 0.0948 - val_accuracy: 0.9597\n",
            "Epoch 21/30\n",
            "79/79 [==============================] - 22s 282ms/step - loss: 8.6971e-04 - accuracy: 0.9996 - val_loss: 0.1367 - val_accuracy: 0.9543\n",
            "Epoch 22/30\n",
            "79/79 [==============================] - 22s 280ms/step - loss: 0.0182 - accuracy: 0.9948 - val_loss: 0.1440 - val_accuracy: 0.9489\n",
            "Epoch 23/30\n",
            "79/79 [==============================] - 22s 279ms/step - loss: 0.0062 - accuracy: 0.9972 - val_loss: 0.1225 - val_accuracy: 0.9704\n",
            "Epoch 24/30\n",
            "79/79 [==============================] - 22s 279ms/step - loss: 0.0108 - accuracy: 0.9960 - val_loss: 0.3902 - val_accuracy: 0.9113\n",
            "Epoch 25/30\n",
            "79/79 [==============================] - 22s 283ms/step - loss: 0.0061 - accuracy: 0.9984 - val_loss: 0.0496 - val_accuracy: 0.9839\n",
            "Epoch 26/30\n",
            "79/79 [==============================] - 22s 281ms/step - loss: 6.9987e-04 - accuracy: 0.9996 - val_loss: 0.0844 - val_accuracy: 0.9758\n",
            "Epoch 27/30\n",
            "79/79 [==============================] - 22s 281ms/step - loss: 0.0014 - accuracy: 0.9992 - val_loss: 0.0875 - val_accuracy: 0.9704\n",
            "Epoch 28/30\n",
            "79/79 [==============================] - 23s 289ms/step - loss: 2.7435e-04 - accuracy: 1.0000 - val_loss: 0.0558 - val_accuracy: 0.9839\n",
            "Epoch 29/30\n",
            "79/79 [==============================] - 22s 282ms/step - loss: 3.7034e-05 - accuracy: 1.0000 - val_loss: 0.1231 - val_accuracy: 0.9731\n",
            "Epoch 30/30\n",
            "79/79 [==============================] - 23s 285ms/step - loss: 1.0742e-04 - accuracy: 1.0000 - val_loss: 0.1108 - val_accuracy: 0.9758\n"
          ]
        }
      ],
      "source": [
        "# train data\n",
        "history = model.fit(\n",
        "    train_generator,\n",
        "    epochs = 30,\n",
        "    validation_data = validation_generator,\n",
        "    verbose = 1,\n",
        ")"
      ]
    },
    {
      "cell_type": "code",
      "execution_count": 10,
      "metadata": {
        "colab": {
          "base_uri": "https://localhost:8080/",
          "height": 385
        },
        "id": "TJSENZ-gMfco",
        "outputId": "ce19d94d-02f4-40ef-8c30-b37d7269ecd7"
      },
      "outputs": [
        {
          "output_type": "display_data",
          "data": {
            "text/plain": [
              "<IPython.core.display.HTML object>"
            ],
            "text/html": [
              "\n",
              "     <input type=\"file\" id=\"files-51984299-ec01-43b6-b22f-6c0280032e4f\" name=\"files[]\" multiple disabled\n",
              "        style=\"border:none\" />\n",
              "     <output id=\"result-51984299-ec01-43b6-b22f-6c0280032e4f\">\n",
              "      Upload widget is only available when the cell has been executed in the\n",
              "      current browser session. Please rerun this cell to enable.\n",
              "      </output>\n",
              "      <script>// Copyright 2017 Google LLC\n",
              "//\n",
              "// Licensed under the Apache License, Version 2.0 (the \"License\");\n",
              "// you may not use this file except in compliance with the License.\n",
              "// You may obtain a copy of the License at\n",
              "//\n",
              "//      http://www.apache.org/licenses/LICENSE-2.0\n",
              "//\n",
              "// Unless required by applicable law or agreed to in writing, software\n",
              "// distributed under the License is distributed on an \"AS IS\" BASIS,\n",
              "// WITHOUT WARRANTIES OR CONDITIONS OF ANY KIND, either express or implied.\n",
              "// See the License for the specific language governing permissions and\n",
              "// limitations under the License.\n",
              "\n",
              "/**\n",
              " * @fileoverview Helpers for google.colab Python module.\n",
              " */\n",
              "(function(scope) {\n",
              "function span(text, styleAttributes = {}) {\n",
              "  const element = document.createElement('span');\n",
              "  element.textContent = text;\n",
              "  for (const key of Object.keys(styleAttributes)) {\n",
              "    element.style[key] = styleAttributes[key];\n",
              "  }\n",
              "  return element;\n",
              "}\n",
              "\n",
              "// Max number of bytes which will be uploaded at a time.\n",
              "const MAX_PAYLOAD_SIZE = 100 * 1024;\n",
              "\n",
              "function _uploadFiles(inputId, outputId) {\n",
              "  const steps = uploadFilesStep(inputId, outputId);\n",
              "  const outputElement = document.getElementById(outputId);\n",
              "  // Cache steps on the outputElement to make it available for the next call\n",
              "  // to uploadFilesContinue from Python.\n",
              "  outputElement.steps = steps;\n",
              "\n",
              "  return _uploadFilesContinue(outputId);\n",
              "}\n",
              "\n",
              "// This is roughly an async generator (not supported in the browser yet),\n",
              "// where there are multiple asynchronous steps and the Python side is going\n",
              "// to poll for completion of each step.\n",
              "// This uses a Promise to block the python side on completion of each step,\n",
              "// then passes the result of the previous step as the input to the next step.\n",
              "function _uploadFilesContinue(outputId) {\n",
              "  const outputElement = document.getElementById(outputId);\n",
              "  const steps = outputElement.steps;\n",
              "\n",
              "  const next = steps.next(outputElement.lastPromiseValue);\n",
              "  return Promise.resolve(next.value.promise).then((value) => {\n",
              "    // Cache the last promise value to make it available to the next\n",
              "    // step of the generator.\n",
              "    outputElement.lastPromiseValue = value;\n",
              "    return next.value.response;\n",
              "  });\n",
              "}\n",
              "\n",
              "/**\n",
              " * Generator function which is called between each async step of the upload\n",
              " * process.\n",
              " * @param {string} inputId Element ID of the input file picker element.\n",
              " * @param {string} outputId Element ID of the output display.\n",
              " * @return {!Iterable<!Object>} Iterable of next steps.\n",
              " */\n",
              "function* uploadFilesStep(inputId, outputId) {\n",
              "  const inputElement = document.getElementById(inputId);\n",
              "  inputElement.disabled = false;\n",
              "\n",
              "  const outputElement = document.getElementById(outputId);\n",
              "  outputElement.innerHTML = '';\n",
              "\n",
              "  const pickedPromise = new Promise((resolve) => {\n",
              "    inputElement.addEventListener('change', (e) => {\n",
              "      resolve(e.target.files);\n",
              "    });\n",
              "  });\n",
              "\n",
              "  const cancel = document.createElement('button');\n",
              "  inputElement.parentElement.appendChild(cancel);\n",
              "  cancel.textContent = 'Cancel upload';\n",
              "  const cancelPromise = new Promise((resolve) => {\n",
              "    cancel.onclick = () => {\n",
              "      resolve(null);\n",
              "    };\n",
              "  });\n",
              "\n",
              "  // Wait for the user to pick the files.\n",
              "  const files = yield {\n",
              "    promise: Promise.race([pickedPromise, cancelPromise]),\n",
              "    response: {\n",
              "      action: 'starting',\n",
              "    }\n",
              "  };\n",
              "\n",
              "  cancel.remove();\n",
              "\n",
              "  // Disable the input element since further picks are not allowed.\n",
              "  inputElement.disabled = true;\n",
              "\n",
              "  if (!files) {\n",
              "    return {\n",
              "      response: {\n",
              "        action: 'complete',\n",
              "      }\n",
              "    };\n",
              "  }\n",
              "\n",
              "  for (const file of files) {\n",
              "    const li = document.createElement('li');\n",
              "    li.append(span(file.name, {fontWeight: 'bold'}));\n",
              "    li.append(span(\n",
              "        `(${file.type || 'n/a'}) - ${file.size} bytes, ` +\n",
              "        `last modified: ${\n",
              "            file.lastModifiedDate ? file.lastModifiedDate.toLocaleDateString() :\n",
              "                                    'n/a'} - `));\n",
              "    const percent = span('0% done');\n",
              "    li.appendChild(percent);\n",
              "\n",
              "    outputElement.appendChild(li);\n",
              "\n",
              "    const fileDataPromise = new Promise((resolve) => {\n",
              "      const reader = new FileReader();\n",
              "      reader.onload = (e) => {\n",
              "        resolve(e.target.result);\n",
              "      };\n",
              "      reader.readAsArrayBuffer(file);\n",
              "    });\n",
              "    // Wait for the data to be ready.\n",
              "    let fileData = yield {\n",
              "      promise: fileDataPromise,\n",
              "      response: {\n",
              "        action: 'continue',\n",
              "      }\n",
              "    };\n",
              "\n",
              "    // Use a chunked sending to avoid message size limits. See b/62115660.\n",
              "    let position = 0;\n",
              "    do {\n",
              "      const length = Math.min(fileData.byteLength - position, MAX_PAYLOAD_SIZE);\n",
              "      const chunk = new Uint8Array(fileData, position, length);\n",
              "      position += length;\n",
              "\n",
              "      const base64 = btoa(String.fromCharCode.apply(null, chunk));\n",
              "      yield {\n",
              "        response: {\n",
              "          action: 'append',\n",
              "          file: file.name,\n",
              "          data: base64,\n",
              "        },\n",
              "      };\n",
              "\n",
              "      let percentDone = fileData.byteLength === 0 ?\n",
              "          100 :\n",
              "          Math.round((position / fileData.byteLength) * 100);\n",
              "      percent.textContent = `${percentDone}% done`;\n",
              "\n",
              "    } while (position < fileData.byteLength);\n",
              "  }\n",
              "\n",
              "  // All done.\n",
              "  yield {\n",
              "    response: {\n",
              "      action: 'complete',\n",
              "    }\n",
              "  };\n",
              "}\n",
              "\n",
              "scope.google = scope.google || {};\n",
              "scope.google.colab = scope.google.colab || {};\n",
              "scope.google.colab._files = {\n",
              "  _uploadFiles,\n",
              "  _uploadFilesContinue,\n",
              "};\n",
              "})(self);\n",
              "</script> "
            ]
          },
          "metadata": {}
        },
        {
          "output_type": "stream",
          "name": "stdout",
          "text": [
            "Saving paper.png to paper.png\n",
            "1/1 [==============================] - 0s 234ms/step\n",
            "paper.png\n",
            "Papel\n"
          ]
        },
        {
          "output_type": "display_data",
          "data": {
            "text/plain": [
              "<Figure size 432x288 with 1 Axes>"
            ],
            "image/png": "[encoded data removed]"
          },
          "metadata": {
            "needs_background": "light"
          }
        }
      ],
      "source": [
        "import numpy as np\n",
        "from google.colab import files\n",
        "from tensorflow.keras.utils import load_img\n",
        "#from keras.preprocessing import image\n",
        "import matplotlib.pyplot as plt\n",
        "import matplotlib.image as mpimg\n",
        "%matplotlib inline\n",
        "\n",
        "uploaded = files.upload()\n",
        "\n",
        "for fn in uploaded.keys():\n",
        "  # predict images\n",
        "  path = fn\n",
        "  img_source = tf.keras.utils.load_img(path, target_size = (150, 150))\n",
        "  imgplot = plt.imshow(img_source)\n",
        "  x = tf.keras.utils.img_to_array(img_source)\n",
        "  x = np.expand_dims(x, axis = 0)\n",
        "\n",
        "  images = np.vstack([x])\n",
        "  classes = model.predict(images, batch_size=10)\n",
        "\n",
        "  print(fn)\n",
        "  if classes[0, 0] == 1:\n",
        "    print('Pedra')\n",
        "  elif classes[0, 1] == 1:\n",
        "    print('Papel')\n",
        "  elif classes[0, 2] == 1:\n",
        "    print('Tesoura')"
      ]
    },
    {
      "cell_type": "code",
      "execution_count": 11,
      "metadata": {
        "colab": {
          "base_uri": "https://localhost:8080/",
          "height": 300
        },
        "id": "mX89ccbmS35A",
        "outputId": "d2fabc30-893d-4c31-8135-45ed7d53b6be"
      },
      "outputs": [
        {
          "output_type": "display_data",
          "data": {
            "text/plain": [
              "<Figure size 432x288 with 1 Axes>"
            ],
            "image/png": "[encoded data removed]"
          },
          "metadata": {
            "needs_background": "light"
          }
        },
        {
          "output_type": "display_data",
          "data": {
            "text/plain": [
              "<Figure size 432x288 with 0 Axes>"
            ]
          },
          "metadata": {}
        }
      ],
      "source": [
        "# Verificando a eficácia do modelo\n",
        "acc = history.history['accuracy']\n",
        "val_acc = history.history['val_accuracy']\n",
        "loss = history.history['loss']\n",
        "val_loss = history.history['val_loss']\n",
        "\n",
        "epochs = range(len(acc))\n",
        "\n",
        "plt.plot(epochs, acc, 'r', label='Acurácia de treinamento')\n",
        "plt.plot(epochs, val_acc, 'b', label='Acurácia de validação')\n",
        "plt.title('Acurácia de treinamento e validação')\n",
        "plt.legend(loc=0)\n",
        "plt.figure()\n",
        "\n",
        "\n",
        "plt.show()"
      ]
    },
    {
      "cell_type": "code",
      "execution_count": 12,
      "metadata": {
        "id": "wyFAYAAfR432"
      },
      "outputs": [],
      "source": [
        "# Salvando o modelo\n",
        "model.save('rps.h5')"
      ]
    },
    {
      "cell_type": "code",
      "source": [
        "from keras.models import load_model\n",
        "model = load_model('rps.h5')\n",
        "model.summary()\n",
        "\n",
        "import pickle\n",
        "import sqlite3\n",
        "\n",
        "# Serializando o modelo em um arquivo pickle\n",
        "with open('model.pkl', 'wb') as f:\n",
        "  pickle.dump(model, f)\n",
        "\n",
        "# Conectando com o banco de dados\n",
        "conn = sqlite3.connect('database.db')\n",
        "\n",
        "# Inserindo uma linha na tabela com o modelo de arquivo BLOB\n",
        "cursor = conn.cursor()\n",
        "query = 'INSERT INTO models (model) VALUES (?)'\n",
        "with open('model.pkl', 'rb') as f:\n",
        "  model_blob = f.read()\n",
        "cursor.execute(query, (memoryview(model_blob),))\n",
        "conn.commit()\n",
        "\n",
        "# Recuperando o modelo da tabela como BLOB\n",
        "id = 1\n",
        "cursor.execute('SELECT model FROM models WHERE id = ?', (id,))\n",
        "model_blob = cursor.fetchone()[0]\n",
        "\n",
        "# Salvando e desserializando  o modelo \n",
        "with open('model_from_db.pkl', 'wb') as f:\n",
        "  f.write(model_blob)\n",
        "\n",
        "with open('model_from_db.pkl', 'rb') as f:\n",
        "  model_from_db = pickle.load(f)\n",
        "\n"
      ],
      "metadata": {
        "colab": {
          "base_uri": "https://localhost:8080/"
        },
        "id": "reK8wFbLwSKD",
        "outputId": "95d85bd0-bbc8-4441-c53f-1e4d3d92368d"
      },
      "execution_count": 7,
      "outputs": [
        {
          "output_type": "stream",
          "name": "stdout",
          "text": [
            "Model: \"sequential\"\n",
            "_________________________________________________________________\n",
            " Layer (type)                Output Shape              Param #   \n",
            "=================================================================\n",
            " conv2d (Conv2D)             (None, 148, 148, 32)      896       \n",
            "                                                                 \n",
            " max_pooling2d (MaxPooling2D  (None, 74, 74, 32)       0         \n",
            " )                                                               \n",
            "                                                                 \n",
            " conv2d_1 (Conv2D)           (None, 72, 72, 64)        18496     \n",
            "                                                                 \n",
            " max_pooling2d_1 (MaxPooling  (None, 36, 36, 64)       0         \n",
            " 2D)                                                             \n",
            "                                                                 \n",
            " conv2d_2 (Conv2D)           (None, 34, 34, 128)       73856     \n",
            "                                                                 \n",
            " max_pooling2d_2 (MaxPooling  (None, 17, 17, 128)      0         \n",
            " 2D)                                                             \n",
            "                                                                 \n",
            " conv2d_3 (Conv2D)           (None, 15, 15, 256)       295168    \n",
            "                                                                 \n",
            " max_pooling2d_3 (MaxPooling  (None, 7, 7, 256)        0         \n",
            " 2D)                                                             \n",
            "                                                                 \n",
            " flatten (Flatten)           (None, 12544)             0         \n",
            "                                                                 \n",
            " dense (Dense)               (None, 512)               6423040   \n",
            "                                                                 \n",
            " dense_1 (Dense)             (None, 3)                 1539      \n",
            "                                                                 \n",
            "=================================================================\n",
            "Total params: 6,812,995\n",
            "Trainable params: 6,812,995\n",
            "Non-trainable params: 0\n",
            "_________________________________________________________________\n"
          ]
        },
        {
          "output_type": "stream",
          "name": "stderr",
          "text": [
            "WARNING:absl:Found untraced functions such as _jit_compiled_convolution_op, _jit_compiled_convolution_op, _jit_compiled_convolution_op, _jit_compiled_convolution_op while saving (showing 4 of 4). These functions will not be directly callable after loading.\n"
          ]
        }
      ]
    }
  ],
  "metadata": {
    "colab": {
      "provenance": []
    },
    "kernelspec": {
      "display_name": "Python 3",
      "language": "python",
      "name": "python3"
    },
    "language_info": {
      "name": "python",
      "version": "3.10.9 (tags/v3.10.9:1dd9be6, Dec  6 2022, 20:01:21) [MSC v.1934 64 bit (AMD64)]"
    },
    "vscode": {
      "interpreter": {
        "hash": "acc17a64099282e3512f078a64f287b6e1b8513505ab51f4faba05dcd3df9624"
      }
    },
    "accelerator": "GPU",
    "gpuClass": "standard"
  },
  "nbformat": 4,
  "nbformat_minor": 0
}