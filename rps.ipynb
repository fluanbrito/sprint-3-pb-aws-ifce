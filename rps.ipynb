{
  "cells": [
    {
      "cell_type": "code",
      "execution_count": 1,
      "metadata": {
        "id": "vK1utixvG8FN"
      },
      "outputs": [],
      "source": [
        "import tensorflow as tf\n",
        "from tensorflow.keras.preprocessing.image import ImageDataGenerator"
      ]
    },
    {
      "cell_type": "code",
      "execution_count": 2,
      "metadata": {
        "colab": {
          "base_uri": "https://localhost:8080/"
        },
        "id": "Ok97s5kAHD0u",
        "outputId": "4bc7260f-f04f-446a-8401-e7192c9a54e9"
      },
      "outputs": [
        {
          "name": "stdout",
          "output_type": "stream",
          "text": [
            "--2023-01-01 20:53:27--  https://storage.googleapis.com/laurencemoroney-blog.appspot.com/rps.zip\n",
            "Resolving storage.googleapis.com (storage.googleapis.com)... 173.194.193.128, 173.194.194.128, 173.194.196.128, ...\n",
            "Connecting to storage.googleapis.com (storage.googleapis.com)|173.194.193.128|:443... connected.\n",
            "HTTP request sent, awaiting response... 200 OK\n",
            "Length: 200682221 (191M) [application/zip]\n",
            "Saving to: ‘/tmp/rps.zip’\n",
            "\n",
            "/tmp/rps.zip        100%[===================>] 191.38M   187MB/s    in 1.0s    \n",
            "\n",
            "2023-01-01 20:53:28 (187 MB/s) - ‘/tmp/rps.zip’ saved [200682221/200682221]\n",
            "\n",
            "--2023-01-01 20:53:28--  https://storage.googleapis.com/laurencemoroney-blog.appspot.com/rps-test-set.zip\n",
            "Resolving storage.googleapis.com (storage.googleapis.com)... 173.194.193.128, 173.194.194.128, 173.194.196.128, ...\n",
            "Connecting to storage.googleapis.com (storage.googleapis.com)|173.194.193.128|:443... connected.\n",
            "HTTP request sent, awaiting response... 200 OK\n",
            "Length: 29516758 (28M) [application/zip]\n",
            "Saving to: ‘/tmp/rps-test-set.zip’\n",
            "\n",
            "/tmp/rps-test-set.z 100%[===================>]  28.15M   151MB/s    in 0.2s    \n",
            "\n",
            "2023-01-01 20:53:29 (151 MB/s) - ‘/tmp/rps-test-set.zip’ saved [29516758/29516758]\n",
            "\n"
          ]
        }
      ],
      "source": [
        "# import datasets\n",
        "!wget --no-check-certificate \\\n",
        "  https://storage.googleapis.com/laurencemoroney-blog.appspot.com/rps.zip \\\n",
        "  -O /tmp/rps.zip\n",
        "\n",
        "!wget --no-check-certificate \\\n",
        "  https://storage.googleapis.com/laurencemoroney-blog.appspot.com/rps-test-set.zip \\\n",
        "  -O /tmp/rps-test-set.zip"
      ]
    },
    {
      "cell_type": "code",
      "execution_count": 3,
      "metadata": {
        "id": "8SYWDw-EHFlF"
      },
      "outputs": [],
      "source": [
        "# extract zip file\n",
        "import zipfile\n",
        "import os\n",
        "\n",
        "local_zip = '/tmp/rps.zip'\n",
        "zip_extract = zipfile.ZipFile(local_zip, 'r')\n",
        "zip_extract.extractall('/tmp/')\n",
        "zip_extract.close()\n",
        "\n",
        "local_zip = '/tmp/rps-test-set.zip'\n",
        "zip_extract = zipfile.ZipFile(local_zip, 'r')\n",
        "zip_extract.extractall('/tmp/')\n",
        "zip_extract.close()"
      ]
    },
    {
      "cell_type": "code",
      "execution_count": 38,
      "metadata": {
        "colab": {
          "base_uri": "https://localhost:8080/"
        },
        "id": "5gu0ceKFHSqy",
        "outputId": "e792f9c7-f72d-4701-8d1e-bfdda97c6438"
      },
      "outputs": [
        {
          "data": {
            "text/plain": [
              "<keras.preprocessing.image.ImageDataGenerator at 0x7fdc32e89100>"
            ]
          },
          "execution_count": 38,
          "metadata": {},
          "output_type": "execute_result"
        }
      ],
      "source": [
        "# image augmentation\n",
        "train_datagen = ImageDataGenerator(rescale = 1./255)\n",
        "train_datagen"
      ]
    },
    {
      "cell_type": "code",
      "execution_count": 28,
      "metadata": {
        "colab": {
          "base_uri": "https://localhost:8080/"
        },
        "id": "d0yOgG_qHeHM",
        "outputId": "479cdc64-0ecd-4566-fbdb-cd317c5b4a64"
      },
      "outputs": [
        {
          "name": "stdout",
          "output_type": "stream",
          "text": [
            "Found 2520 images belonging to 3 classes.\n",
            "Found 372 images belonging to 3 classes.\n"
          ]
        }
      ],
      "source": [
        "TRAINING_DIR = '/tmp/rps/'\n",
        "\n",
        "train_generator = train_datagen.flow_from_directory(\n",
        "    TRAINING_DIR,\n",
        "    target_size = (150, 150),\n",
        "    class_mode = 'categorical',\n",
        ")\n",
        "\n",
        "VALIDATION_DIR = '/tmp/rps-test-set'\n",
        "\n",
        "validation_generator = train_datagen.flow_from_directory(\n",
        "    VALIDATION_DIR,\n",
        "    target_size = (150, 150),\n",
        "    class_mode = 'categorical',\n",
        ")"
      ]
    },
    {
      "cell_type": "code",
      "execution_count": 39,
      "metadata": {
        "id": "v2S3qPwGHly9"
      },
      "outputs": [],
      "source": [
        "model = tf.keras.models.Sequential([\n",
        "    tf.keras.layers.Conv2D(32, (3, 3), activation = 'relu', input_shape = (150, 150, 3)),\n",
        "    tf.keras.layers.MaxPooling2D(2, 2),\n",
        "    tf.keras.layers.Conv2D(64, (3, 3), activation = 'relu'),\n",
        "    tf.keras.layers.MaxPooling2D(2, 2),\n",
        "    tf.keras.layers.Conv2D(128, (3, 3), activation = 'relu'),\n",
        "    tf.keras.layers.MaxPooling2D(2, 2),\n",
        "    tf.keras.layers.Conv2D(256, (3, 3), activation = 'relu'),\n",
        "    tf.keras.layers.MaxPooling2D(2, 2),\n",
        "    tf.keras.layers.Flatten(),\n",
        "    tf.keras.layers.Dense(512, activation = 'relu'),\n",
        "    tf.keras.layers.Dense(3, activation = 'softmax')\n",
        "])"
      ]
    },
    {
      "cell_type": "code",
      "execution_count": 40,
      "metadata": {
        "id": "zp9gMZlmHnw9"
      },
      "outputs": [],
      "source": [
        "# count loss function and optimizer\n",
        "model.compile(\n",
        "    loss = 'categorical_crossentropy',\n",
        "    optimizer = 'rmsprop',\n",
        "    metrics = ['accuracy']               \n",
        ")"
      ]
    },
    {
      "cell_type": "code",
      "execution_count": 42,
      "metadata": {
        "colab": {
          "base_uri": "https://localhost:8080/"
        },
        "id": "ru8uEJVuHpYV",
        "outputId": "c4cd9441-a806-4262-eebd-e8144b68fb91"
      },
      "outputs": [
        {
          "name": "stdout",
          "output_type": "stream",
          "text": [
            "Epoch 1/20\n",
            "10/10 [==============================] - 26s 3s/step - loss: 0.0044 - accuracy: 1.0000 - val_loss: 0.7014 - val_accuracy: 0.8844\n",
            "Epoch 2/20\n",
            "10/10 [==============================] - 26s 3s/step - loss: 7.8556e-04 - accuracy: 1.0000 - val_loss: 0.6538 - val_accuracy: 0.8817\n",
            "Epoch 3/20\n",
            "10/10 [==============================] - 26s 3s/step - loss: 0.4281 - accuracy: 0.9062 - val_loss: 0.4576 - val_accuracy: 0.8763\n",
            "Epoch 4/20\n",
            "10/10 [==============================] - 26s 3s/step - loss: 0.0771 - accuracy: 0.9656 - val_loss: 0.8078 - val_accuracy: 0.8172\n",
            "Epoch 5/20\n",
            "10/10 [==============================] - 28s 3s/step - loss: 0.0269 - accuracy: 0.9936 - val_loss: 0.7004 - val_accuracy: 0.9113\n",
            "Epoch 6/20\n",
            "10/10 [==============================] - 28s 3s/step - loss: 0.0105 - accuracy: 0.9937 - val_loss: 0.6556 - val_accuracy: 0.9059\n",
            "Epoch 7/20\n",
            "10/10 [==============================] - 27s 3s/step - loss: 0.0018 - accuracy: 1.0000 - val_loss: 0.8252 - val_accuracy: 0.8871\n",
            "Epoch 8/20\n",
            "10/10 [==============================] - 26s 3s/step - loss: 0.2788 - accuracy: 0.9312 - val_loss: 0.5850 - val_accuracy: 0.8925\n",
            "Epoch 9/20\n",
            "10/10 [==============================] - 28s 3s/step - loss: 0.0705 - accuracy: 0.9712 - val_loss: 0.6718 - val_accuracy: 0.8522\n",
            "Epoch 10/20\n",
            "10/10 [==============================] - 26s 3s/step - loss: 0.0446 - accuracy: 0.9906 - val_loss: 0.5508 - val_accuracy: 0.8925\n",
            "Epoch 11/20\n",
            "10/10 [==============================] - 27s 3s/step - loss: 0.0038 - accuracy: 1.0000 - val_loss: 0.5574 - val_accuracy: 0.9032\n",
            "Epoch 12/20\n",
            "10/10 [==============================] - 28s 3s/step - loss: 0.0136 - accuracy: 0.9937 - val_loss: 1.1220 - val_accuracy: 0.7823\n",
            "Epoch 13/20\n",
            "10/10 [==============================] - 26s 3s/step - loss: 0.0600 - accuracy: 0.9812 - val_loss: 0.7644 - val_accuracy: 0.8522\n",
            "Epoch 14/20\n",
            "10/10 [==============================] - 26s 3s/step - loss: 0.1886 - accuracy: 0.9455 - val_loss: 0.4524 - val_accuracy: 0.9140\n",
            "Epoch 15/20\n",
            "10/10 [==============================] - 28s 3s/step - loss: 0.0589 - accuracy: 0.9844 - val_loss: 0.6889 - val_accuracy: 0.8817\n",
            "Epoch 16/20\n",
            "10/10 [==============================] - 27s 3s/step - loss: 0.0114 - accuracy: 0.9969 - val_loss: 0.6385 - val_accuracy: 0.8871\n",
            "Epoch 17/20\n",
            "10/10 [==============================] - 26s 3s/step - loss: 0.0534 - accuracy: 0.9712 - val_loss: 3.1851 - val_accuracy: 0.7151\n",
            "Epoch 18/20\n",
            "10/10 [==============================] - 26s 3s/step - loss: 0.2259 - accuracy: 0.9594 - val_loss: 0.6552 - val_accuracy: 0.9059\n",
            "Epoch 19/20\n",
            "10/10 [==============================] - 26s 3s/step - loss: 0.0015 - accuracy: 1.0000 - val_loss: 0.7112 - val_accuracy: 0.9140\n",
            "Epoch 20/20\n",
            "10/10 [==============================] - 26s 3s/step - loss: 0.0017 - accuracy: 1.0000 - val_loss: 0.8341 - val_accuracy: 0.9140\n"
          ]
        }
      ],
      "source": [
        "# train data\n",
        "history = model.fit(\n",
        "    train_generator,\n",
        "    steps_per_epoch = 10,\n",
        "    epochs = 20,\n",
        "    validation_data = validation_generator,\n",
        "    validation_steps = 5,\n",
        "    verbose = 1,\n",
        ")"
      ]
    },
    {
      "cell_type": "code",
      "execution_count": 43,
      "metadata": {
        "colab": {
          "base_uri": "https://localhost:8080/",
          "height": 377
        },
        "id": "TJSENZ-gMfco",
        "outputId": "8d21e346-3e7d-4b68-aba1-4a45b5778c75"
      },
      "outputs": [
        {
          "data": {
            "text/html": [
              "\n",
              "     <input type=\"file\" id=\"files-500829c7-3dd1-47d6-a5f3-2246091a5e6c\" name=\"files[]\" multiple disabled\n",
              "        style=\"border:none\" />\n",
              "     <output id=\"result-500829c7-3dd1-47d6-a5f3-2246091a5e6c\">\n",
              "      Upload widget is only available when the cell has been executed in the\n",
              "      current browser session. Please rerun this cell to enable.\n",
              "      </output>\n",
              "      <script>// Copyright 2017 Google LLC\n",
              "//\n",
              "// Licensed under the Apache License, Version 2.0 (the \"License\");\n",
              "// you may not use this file except in compliance with the License.\n",
              "// You may obtain a copy of the License at\n",
              "//\n",
              "//      http://www.apache.org/licenses/LICENSE-2.0\n",
              "//\n",
              "// Unless required by applicable law or agreed to in writing, software\n",
              "// distributed under the License is distributed on an \"AS IS\" BASIS,\n",
              "// WITHOUT WARRANTIES OR CONDITIONS OF ANY KIND, either express or implied.\n",
              "// See the License for the specific language governing permissions and\n",
              "// limitations under the License.\n",
              "\n",
              "/**\n",
              " * @fileoverview Helpers for google.colab Python module.\n",
              " */\n",
              "(function(scope) {\n",
              "function span(text, styleAttributes = {}) {\n",
              "  const element = document.createElement('span');\n",
              "  element.textContent = text;\n",
              "  for (const key of Object.keys(styleAttributes)) {\n",
              "    element.style[key] = styleAttributes[key];\n",
              "  }\n",
              "  return element;\n",
              "}\n",
              "\n",
              "// Max number of bytes which will be uploaded at a time.\n",
              "const MAX_PAYLOAD_SIZE = 100 * 1024;\n",
              "\n",
              "function _uploadFiles(inputId, outputId) {\n",
              "  const steps = uploadFilesStep(inputId, outputId);\n",
              "  const outputElement = document.getElementById(outputId);\n",
              "  // Cache steps on the outputElement to make it available for the next call\n",
              "  // to uploadFilesContinue from Python.\n",
              "  outputElement.steps = steps;\n",
              "\n",
              "  return _uploadFilesContinue(outputId);\n",
              "}\n",
              "\n",
              "// This is roughly an async generator (not supported in the browser yet),\n",
              "// where there are multiple asynchronous steps and the Python side is going\n",
              "// to poll for completion of each step.\n",
              "// This uses a Promise to block the python side on completion of each step,\n",
              "// then passes the result of the previous step as the input to the next step.\n",
              "function _uploadFilesContinue(outputId) {\n",
              "  const outputElement = document.getElementById(outputId);\n",
              "  const steps = outputElement.steps;\n",
              "\n",
              "  const next = steps.next(outputElement.lastPromiseValue);\n",
              "  return Promise.resolve(next.value.promise).then((value) => {\n",
              "    // Cache the last promise value to make it available to the next\n",
              "    // step of the generator.\n",
              "    outputElement.lastPromiseValue = value;\n",
              "    return next.value.response;\n",
              "  });\n",
              "}\n",
              "\n",
              "/**\n",
              " * Generator function which is called between each async step of the upload\n",
              " * process.\n",
              " * @param {string} inputId Element ID of the input file picker element.\n",
              " * @param {string} outputId Element ID of the output display.\n",
              " * @return {!Iterable<!Object>} Iterable of next steps.\n",
              " */\n",
              "function* uploadFilesStep(inputId, outputId) {\n",
              "  const inputElement = document.getElementById(inputId);\n",
              "  inputElement.disabled = false;\n",
              "\n",
              "  const outputElement = document.getElementById(outputId);\n",
              "  outputElement.innerHTML = '';\n",
              "\n",
              "  const pickedPromise = new Promise((resolve) => {\n",
              "    inputElement.addEventListener('change', (e) => {\n",
              "      resolve(e.target.files);\n",
              "    });\n",
              "  });\n",
              "\n",
              "  const cancel = document.createElement('button');\n",
              "  inputElement.parentElement.appendChild(cancel);\n",
              "  cancel.textContent = 'Cancel upload';\n",
              "  const cancelPromise = new Promise((resolve) => {\n",
              "    cancel.onclick = () => {\n",
              "      resolve(null);\n",
              "    };\n",
              "  });\n",
              "\n",
              "  // Wait for the user to pick the files.\n",
              "  const files = yield {\n",
              "    promise: Promise.race([pickedPromise, cancelPromise]),\n",
              "    response: {\n",
              "      action: 'starting',\n",
              "    }\n",
              "  };\n",
              "\n",
              "  cancel.remove();\n",
              "\n",
              "  // Disable the input element since further picks are not allowed.\n",
              "  inputElement.disabled = true;\n",
              "\n",
              "  if (!files) {\n",
              "    return {\n",
              "      response: {\n",
              "        action: 'complete',\n",
              "      }\n",
              "    };\n",
              "  }\n",
              "\n",
              "  for (const file of files) {\n",
              "    const li = document.createElement('li');\n",
              "    li.append(span(file.name, {fontWeight: 'bold'}));\n",
              "    li.append(span(\n",
              "        `(${file.type || 'n/a'}) - ${file.size} bytes, ` +\n",
              "        `last modified: ${\n",
              "            file.lastModifiedDate ? file.lastModifiedDate.toLocaleDateString() :\n",
              "                                    'n/a'} - `));\n",
              "    const percent = span('0% done');\n",
              "    li.appendChild(percent);\n",
              "\n",
              "    outputElement.appendChild(li);\n",
              "\n",
              "    const fileDataPromise = new Promise((resolve) => {\n",
              "      const reader = new FileReader();\n",
              "      reader.onload = (e) => {\n",
              "        resolve(e.target.result);\n",
              "      };\n",
              "      reader.readAsArrayBuffer(file);\n",
              "    });\n",
              "    // Wait for the data to be ready.\n",
              "    let fileData = yield {\n",
              "      promise: fileDataPromise,\n",
              "      response: {\n",
              "        action: 'continue',\n",
              "      }\n",
              "    };\n",
              "\n",
              "    // Use a chunked sending to avoid message size limits. See b/62115660.\n",
              "    let position = 0;\n",
              "    do {\n",
              "      const length = Math.min(fileData.byteLength - position, MAX_PAYLOAD_SIZE);\n",
              "      const chunk = new Uint8Array(fileData, position, length);\n",
              "      position += length;\n",
              "\n",
              "      const base64 = btoa(String.fromCharCode.apply(null, chunk));\n",
              "      yield {\n",
              "        response: {\n",
              "          action: 'append',\n",
              "          file: file.name,\n",
              "          data: base64,\n",
              "        },\n",
              "      };\n",
              "\n",
              "      let percentDone = fileData.byteLength === 0 ?\n",
              "          100 :\n",
              "          Math.round((position / fileData.byteLength) * 100);\n",
              "      percent.textContent = `${percentDone}% done`;\n",
              "\n",
              "    } while (position < fileData.byteLength);\n",
              "  }\n",
              "\n",
              "  // All done.\n",
              "  yield {\n",
              "    response: {\n",
              "      action: 'complete',\n",
              "    }\n",
              "  };\n",
              "}\n",
              "\n",
              "scope.google = scope.google || {};\n",
              "scope.google.colab = scope.google.colab || {};\n",
              "scope.google.colab._files = {\n",
              "  _uploadFiles,\n",
              "  _uploadFilesContinue,\n",
              "};\n",
              "})(self);\n",
              "</script> "
            ],
            "text/plain": [
              "<IPython.core.display.HTML object>"
            ]
          },
          "metadata": {},
          "output_type": "display_data"
        },
        {
          "name": "stdout",
          "output_type": "stream",
          "text": [
            "Saving shutterstock_239520823.jpg to shutterstock_239520823 (4).jpg\n",
            "1/1 [==============================] - 0s 109ms/step\n",
            "shutterstock_239520823.jpg\n",
            "Tesoura\n"
          ]
        },
        {
          "data": {
            "image/png": "[encoded data removed]",
            "text/plain": [
              "<Figure size 432x288 with 1 Axes>"
            ]
          },
          "metadata": {
            "needs_background": "light"
          },
          "output_type": "display_data"
        }
      ],
      "source": [
        "import numpy as np\n",
        "from google.colab import files\n",
        "from tensorflow.keras.utils import load_img\n",
        "#from keras.preprocessing import image\n",
        "import matplotlib.pyplot as plt\n",
        "import matplotlib.image as mpimg\n",
        "%matplotlib inline\n",
        "\n",
        "uploaded = files.upload()\n",
        "\n",
        "for fn in uploaded.keys():\n",
        "  # predict images\n",
        "  path = fn\n",
        "  img_source = tf.keras.utils.load_img(path, target_size = (150, 150))\n",
        "  imgplot = plt.imshow(img_source)\n",
        "  x = tf.keras.utils.img_to_array(img_source)\n",
        "  x = np.expand_dims(x, axis = 0)\n",
        "\n",
        "  images = np.vstack([x])\n",
        "  classes = model.predict(images, batch_size=10)\n",
        "J\n",
        "  print(fn)\n",
        "  if classes[0, 0] == 1:\n",
        "    print('Pedra')\n",
        "  elif classes[0, 1] == 1:\n",
        "    print('Papel')\n",
        "  elif classes[0, 2] == 1:\n",
        "    print('Tesoura')"
      ]
    }
  ],
  "metadata": {
    "colab": {
      "provenance": []
    },
    "kernelspec": {
      "display_name": "Python 3",
      "name": "python3"
    },
    "language_info": {
      "name": "python"
    }
  },
  "nbformat": 4,
  "nbformat_minor": 0
}
